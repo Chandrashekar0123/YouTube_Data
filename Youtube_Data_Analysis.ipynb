{
  "nbformat": 4,
  "nbformat_minor": 0,
  "metadata": {
    "colab": {
      "provenance": [],
      "authorship_tag": "ABX9TyOExoAn5C0+pE6knqAlTbAv",
      "include_colab_link": true
    },
    "kernelspec": {
      "name": "python3",
      "display_name": "Python 3"
    },
    "language_info": {
      "name": "python"
    }
  },
  "cells": [
    {
      "cell_type": "markdown",
      "metadata": {
        "id": "view-in-github",
        "colab_type": "text"
      },
      "source": [
        "<a href=\"https://colab.research.google.com/github/Chandrashekar0123/Data_Science/blob/main/Youtube_Data_Analysis.ipynb\" target=\"_parent\"><img src=\"https://colab.research.google.com/assets/colab-badge.svg\" alt=\"Open In Colab\"/></a>"
      ]
    },
    {
      "cell_type": "markdown",
      "source": [
        "\n",
        "##YouTube Data Analysis\n",
        "\n",
        "Analyzed YouTube data by preprocessing and normalizing numeric features like views, likes, and comments. Explored trends, computed correlations, and visualized relationships using scatterplots to uncover performance insights."
      ],
      "metadata": {
        "id": "dJ20BR5XEXXu"
      }
    },
    {
      "cell_type": "markdown",
      "source": [
        "#Install neccesary modules\n"
      ],
      "metadata": {
        "id": "s1hywfQv5GB3"
      }
    },
    {
      "cell_type": "code",
      "execution_count": 7,
      "metadata": {
        "colab": {
          "base_uri": "https://localhost:8080/"
        },
        "id": "H9eAKg5s2qWt",
        "outputId": "5777bb41-cdf9-4db7-f2f2-d6e655a1ba79"
      },
      "outputs": [
        {
          "output_type": "stream",
          "name": "stdout",
          "text": [
            "Requirement already satisfied: pandas in /usr/local/lib/python3.10/dist-packages (2.2.2)\n",
            "Requirement already satisfied: openpyxl in /usr/local/lib/python3.10/dist-packages (3.1.5)\n",
            "Requirement already satisfied: numpy>=1.22.4 in /usr/local/lib/python3.10/dist-packages (from pandas) (1.26.4)\n",
            "Requirement already satisfied: python-dateutil>=2.8.2 in /usr/local/lib/python3.10/dist-packages (from pandas) (2.8.2)\n",
            "Requirement already satisfied: pytz>=2020.1 in /usr/local/lib/python3.10/dist-packages (from pandas) (2024.2)\n",
            "Requirement already satisfied: tzdata>=2022.7 in /usr/local/lib/python3.10/dist-packages (from pandas) (2024.2)\n",
            "Requirement already satisfied: et-xmlfile in /usr/local/lib/python3.10/dist-packages (from openpyxl) (2.0.0)\n",
            "Requirement already satisfied: six>=1.5 in /usr/local/lib/python3.10/dist-packages (from python-dateutil>=2.8.2->pandas) (1.17.0)\n"
          ]
        }
      ],
      "source": [
        "!pip install pandas openpyxl"
      ]
    },
    {
      "cell_type": "markdown",
      "source": [
        "# Load the Excel file"
      ],
      "metadata": {
        "id": "qEsmyJ674_4_"
      }
    },
    {
      "cell_type": "code",
      "source": [
        "import pandas as pd\n",
        "\n",
        "excel_file = \"/content/youtube_video_data_with_likes_dislikes (2).xlsx\"  # Replace with your file path\n",
        "sheet_name = \"Sheet1\"  # Replace with the specific sheet name or keep 'Sheet1'"
      ],
      "metadata": {
        "id": "LTsinE6x23wy"
      },
      "execution_count": 8,
      "outputs": []
    },
    {
      "cell_type": "markdown",
      "source": [
        "# Read the Excel file into a DataFrame"
      ],
      "metadata": {
        "id": "mljCVJ3P47_4"
      }
    },
    {
      "cell_type": "code",
      "source": [
        "df = pd.read_excel(excel_file, sheet_name=sheet_name)"
      ],
      "metadata": {
        "id": "wmTcu4Mq4Yon"
      },
      "execution_count": 9,
      "outputs": []
    },
    {
      "cell_type": "markdown",
      "source": [
        "##Saving into csv file"
      ],
      "metadata": {
        "id": "NlR6gW4K41UI"
      }
    },
    {
      "cell_type": "code",
      "source": [
        "# Save as CSV\n",
        "csv_file = \"/content/your_file.csv\"\n",
        "df.to_csv(csv_file, index=False)\n",
        "\n",
        "print(f\"File converted and saved to {csv_file}\")"
      ],
      "metadata": {
        "colab": {
          "base_uri": "https://localhost:8080/"
        },
        "id": "UaQDXmyo4eT5",
        "outputId": "c1eb0667-1625-4ba7-bd44-558ef3690846"
      },
      "execution_count": 10,
      "outputs": [
        {
          "output_type": "stream",
          "name": "stdout",
          "text": [
            "File converted and saved to /content/your_file.csv\n"
          ]
        }
      ]
    },
    {
      "cell_type": "markdown",
      "source": [
        "##To Download the csv file"
      ],
      "metadata": {
        "id": "Q7K3QYi44uOt"
      }
    },
    {
      "cell_type": "code",
      "source": [
        "from google.colab import files\n",
        "files.download(\"/content/your_file.csv\")"
      ],
      "metadata": {
        "colab": {
          "base_uri": "https://localhost:8080/",
          "height": 17
        },
        "id": "YuTsv_RB3i2V",
        "outputId": "07cc6021-fd34-4ca0-c4e6-91c81c56556e"
      },
      "execution_count": 11,
      "outputs": [
        {
          "output_type": "display_data",
          "data": {
            "text/plain": [
              "<IPython.core.display.Javascript object>"
            ],
            "application/javascript": [
              "\n",
              "    async function download(id, filename, size) {\n",
              "      if (!google.colab.kernel.accessAllowed) {\n",
              "        return;\n",
              "      }\n",
              "      const div = document.createElement('div');\n",
              "      const label = document.createElement('label');\n",
              "      label.textContent = `Downloading \"${filename}\": `;\n",
              "      div.appendChild(label);\n",
              "      const progress = document.createElement('progress');\n",
              "      progress.max = size;\n",
              "      div.appendChild(progress);\n",
              "      document.body.appendChild(div);\n",
              "\n",
              "      const buffers = [];\n",
              "      let downloaded = 0;\n",
              "\n",
              "      const channel = await google.colab.kernel.comms.open(id);\n",
              "      // Send a message to notify the kernel that we're ready.\n",
              "      channel.send({})\n",
              "\n",
              "      for await (const message of channel.messages) {\n",
              "        // Send a message to notify the kernel that we're ready.\n",
              "        channel.send({})\n",
              "        if (message.buffers) {\n",
              "          for (const buffer of message.buffers) {\n",
              "            buffers.push(buffer);\n",
              "            downloaded += buffer.byteLength;\n",
              "            progress.value = downloaded;\n",
              "          }\n",
              "        }\n",
              "      }\n",
              "      const blob = new Blob(buffers, {type: 'application/binary'});\n",
              "      const a = document.createElement('a');\n",
              "      a.href = window.URL.createObjectURL(blob);\n",
              "      a.download = filename;\n",
              "      div.appendChild(a);\n",
              "      a.click();\n",
              "      div.remove();\n",
              "    }\n",
              "  "
            ]
          },
          "metadata": {}
        },
        {
          "output_type": "display_data",
          "data": {
            "text/plain": [
              "<IPython.core.display.Javascript object>"
            ],
            "application/javascript": [
              "download(\"download_7c1df6a6-1e5a-4d47-98b1-f81c0d2cad55\", \"your_file.csv\", 225825)"
            ]
          },
          "metadata": {}
        }
      ]
    },
    {
      "cell_type": "code",
      "source": [
        "df"
      ],
      "metadata": {
        "colab": {
          "base_uri": "https://localhost:8080/",
          "height": 840
        },
        "id": "9u_6tVqY4qPz",
        "outputId": "c7e48b40-8e90-445c-d18e-37437ac85c71"
      },
      "execution_count": 12,
      "outputs": [
        {
          "output_type": "execute_result",
          "data": {
            "text/plain": [
              "                                                Title  \\\n",
              "0   Sabrina Carpenter - Please Please Please (Offi...   \n",
              "1   Post Malone - I Had Some Help (feat. Morgan Wa...   \n",
              "2             Shaboozey - A Bar Song (Tipsy) (Lyrics)   \n",
              "3                                         Not Like Us   \n",
              "4                 Teddy Swims - Lose Control (Lyrics)   \n",
              "..                                                ...   \n",
              "95            ODETARI - KEEP UP (Official Visualizer)   \n",
              "96          Hozier - Too Sweet (Official Lyric Video)   \n",
              "97         Lady Gaga - Disease (Official Lyric Video)   \n",
              "98         Sophia Scott - Tumbleweed (Official Audio)   \n",
              "99  Mario - Keep Going (Aaaaahhhhh) (Official Musi...   \n",
              "\n",
              "                                          Description          Published At  \\\n",
              "0   Stream “Please Please Please” here: https://Sa...  2024-06-28T20:47:25Z   \n",
              "1   The official music video for “I Had Some Help”...  2024-06-28T20:47:17Z   \n",
              "2   Shaboozey - A Bar Song (Tipsy)\\nGet:\\n\\nLyrics...  2024-06-28T20:47:08Z   \n",
              "3                                                 NaN  2024-06-28T20:46:34Z   \n",
              "4   🎵 Follow the official 7clouds playlist on Spot...  2024-06-28T20:46:18Z   \n",
              "..                                                ...                   ...   \n",
              "95  ODETARI - KEEP UP (Official Visualizer)\\n\\nStr...  2024-10-22T12:54:31Z   \n",
              "96  Official Lyric Video for “Too Sweet” by Hozier...  2024-04-16T23:35:58Z   \n",
              "97  Listen to “Disease”, out now: https://LadyGaga...  2024-10-27T12:03:09Z   \n",
              "98  Stream \"Tumbleweed\": https://music.empi.re/tum...  2024-12-12T17:15:00Z   \n",
              "99  Mario - Keep Going (Aaaaahhhhh) (Official Musi...  2024-12-18T23:51:32Z   \n",
              "\n",
              "                                      Video URL  View Count  Like Count  \\\n",
              "0   https://www.youtube.com/watch?v=cF1Na4AIecM   175794581     2249348   \n",
              "1   https://www.youtube.com/watch?v=4QIZE708gJ4   143225557      998827   \n",
              "2   https://www.youtube.com/watch?v=9PlS_bGJ5c4     5315382       27929   \n",
              "3   https://www.youtube.com/watch?v=T6eK-2OQtew   188781686     3770283   \n",
              "4   https://www.youtube.com/watch?v=XpDEdMu_6O8    34104200      231529   \n",
              "..                                          ...         ...         ...   \n",
              "95  https://www.youtube.com/watch?v=vi72_ggUCHU    28827954      662393   \n",
              "96  https://www.youtube.com/watch?v=aezstCBHOPQ    94764785      909843   \n",
              "97  https://www.youtube.com/watch?v=Sih0v01Wbek     8862870      268040   \n",
              "98  https://www.youtube.com/watch?v=_-jylJNLRXM      102977         464   \n",
              "99  https://www.youtube.com/watch?v=Ws3vO7JW4R0      629822        7986   \n",
              "\n",
              "    Dislike Count  Comment Count  \\\n",
              "0             NaN          45304   \n",
              "1             NaN          28947   \n",
              "2             NaN            863   \n",
              "3             NaN         353065   \n",
              "4             NaN           3336   \n",
              "..            ...            ...   \n",
              "95            NaN          31004   \n",
              "96            NaN          14842   \n",
              "97            NaN          25815   \n",
              "98            NaN             24   \n",
              "99            NaN            461   \n",
              "\n",
              "                                                 Tags  Duration (Minutes)  \n",
              "0      ['Sabrina Carpenter', 'Island Records', 'Pop']                   4  \n",
              "1   ['Post Malone', 'Morgan Wallen', 'Country', 'p...                   3  \n",
              "2   ['Lyrics', 'Pizza Music', 'PizzaMusic', 'pizza...                   2  \n",
              "3                                                  []                   4  \n",
              "4   ['lose control', 'lose control lyrics', 'lyric...                   3  \n",
              "..                                                ...                 ...  \n",
              "95  ['Odetari', 'ODETARI', 'Odecore', 'Hip Hop', '...                   2  \n",
              "96  ['too sweet hozier', 'unheard', \"you're too sw...                   4  \n",
              "97         ['Lady Gaga', 'Interscope Records', 'Pop']                   3  \n",
              "98    ['Sophia Scott', 'Dragonfly EMPIRE', 'Country']                   3  \n",
              "99  ['mario', 'lil wayne', 'tyga', 'let me love yo...                   2  \n",
              "\n",
              "[100 rows x 10 columns]"
            ],
            "text/html": [
              "\n",
              "  <div id=\"df-9944bd24-531f-48de-8311-efc8b34cd6d8\" class=\"colab-df-container\">\n",
              "    <div>\n",
              "<style scoped>\n",
              "    .dataframe tbody tr th:only-of-type {\n",
              "        vertical-align: middle;\n",
              "    }\n",
              "\n",
              "    .dataframe tbody tr th {\n",
              "        vertical-align: top;\n",
              "    }\n",
              "\n",
              "    .dataframe thead th {\n",
              "        text-align: right;\n",
              "    }\n",
              "</style>\n",
              "<table border=\"1\" class=\"dataframe\">\n",
              "  <thead>\n",
              "    <tr style=\"text-align: right;\">\n",
              "      <th></th>\n",
              "      <th>Title</th>\n",
              "      <th>Description</th>\n",
              "      <th>Published At</th>\n",
              "      <th>Video URL</th>\n",
              "      <th>View Count</th>\n",
              "      <th>Like Count</th>\n",
              "      <th>Dislike Count</th>\n",
              "      <th>Comment Count</th>\n",
              "      <th>Tags</th>\n",
              "      <th>Duration (Minutes)</th>\n",
              "    </tr>\n",
              "  </thead>\n",
              "  <tbody>\n",
              "    <tr>\n",
              "      <th>0</th>\n",
              "      <td>Sabrina Carpenter - Please Please Please (Offi...</td>\n",
              "      <td>Stream “Please Please Please” here: https://Sa...</td>\n",
              "      <td>2024-06-28T20:47:25Z</td>\n",
              "      <td>https://www.youtube.com/watch?v=cF1Na4AIecM</td>\n",
              "      <td>175794581</td>\n",
              "      <td>2249348</td>\n",
              "      <td>NaN</td>\n",
              "      <td>45304</td>\n",
              "      <td>['Sabrina Carpenter', 'Island Records', 'Pop']</td>\n",
              "      <td>4</td>\n",
              "    </tr>\n",
              "    <tr>\n",
              "      <th>1</th>\n",
              "      <td>Post Malone - I Had Some Help (feat. Morgan Wa...</td>\n",
              "      <td>The official music video for “I Had Some Help”...</td>\n",
              "      <td>2024-06-28T20:47:17Z</td>\n",
              "      <td>https://www.youtube.com/watch?v=4QIZE708gJ4</td>\n",
              "      <td>143225557</td>\n",
              "      <td>998827</td>\n",
              "      <td>NaN</td>\n",
              "      <td>28947</td>\n",
              "      <td>['Post Malone', 'Morgan Wallen', 'Country', 'p...</td>\n",
              "      <td>3</td>\n",
              "    </tr>\n",
              "    <tr>\n",
              "      <th>2</th>\n",
              "      <td>Shaboozey - A Bar Song (Tipsy) (Lyrics)</td>\n",
              "      <td>Shaboozey - A Bar Song (Tipsy)\\nGet:\\n\\nLyrics...</td>\n",
              "      <td>2024-06-28T20:47:08Z</td>\n",
              "      <td>https://www.youtube.com/watch?v=9PlS_bGJ5c4</td>\n",
              "      <td>5315382</td>\n",
              "      <td>27929</td>\n",
              "      <td>NaN</td>\n",
              "      <td>863</td>\n",
              "      <td>['Lyrics', 'Pizza Music', 'PizzaMusic', 'pizza...</td>\n",
              "      <td>2</td>\n",
              "    </tr>\n",
              "    <tr>\n",
              "      <th>3</th>\n",
              "      <td>Not Like Us</td>\n",
              "      <td>NaN</td>\n",
              "      <td>2024-06-28T20:46:34Z</td>\n",
              "      <td>https://www.youtube.com/watch?v=T6eK-2OQtew</td>\n",
              "      <td>188781686</td>\n",
              "      <td>3770283</td>\n",
              "      <td>NaN</td>\n",
              "      <td>353065</td>\n",
              "      <td>[]</td>\n",
              "      <td>4</td>\n",
              "    </tr>\n",
              "    <tr>\n",
              "      <th>4</th>\n",
              "      <td>Teddy Swims - Lose Control (Lyrics)</td>\n",
              "      <td>🎵 Follow the official 7clouds playlist on Spot...</td>\n",
              "      <td>2024-06-28T20:46:18Z</td>\n",
              "      <td>https://www.youtube.com/watch?v=XpDEdMu_6O8</td>\n",
              "      <td>34104200</td>\n",
              "      <td>231529</td>\n",
              "      <td>NaN</td>\n",
              "      <td>3336</td>\n",
              "      <td>['lose control', 'lose control lyrics', 'lyric...</td>\n",
              "      <td>3</td>\n",
              "    </tr>\n",
              "    <tr>\n",
              "      <th>...</th>\n",
              "      <td>...</td>\n",
              "      <td>...</td>\n",
              "      <td>...</td>\n",
              "      <td>...</td>\n",
              "      <td>...</td>\n",
              "      <td>...</td>\n",
              "      <td>...</td>\n",
              "      <td>...</td>\n",
              "      <td>...</td>\n",
              "      <td>...</td>\n",
              "    </tr>\n",
              "    <tr>\n",
              "      <th>95</th>\n",
              "      <td>ODETARI - KEEP UP (Official Visualizer)</td>\n",
              "      <td>ODETARI - KEEP UP (Official Visualizer)\\n\\nStr...</td>\n",
              "      <td>2024-10-22T12:54:31Z</td>\n",
              "      <td>https://www.youtube.com/watch?v=vi72_ggUCHU</td>\n",
              "      <td>28827954</td>\n",
              "      <td>662393</td>\n",
              "      <td>NaN</td>\n",
              "      <td>31004</td>\n",
              "      <td>['Odetari', 'ODETARI', 'Odecore', 'Hip Hop', '...</td>\n",
              "      <td>2</td>\n",
              "    </tr>\n",
              "    <tr>\n",
              "      <th>96</th>\n",
              "      <td>Hozier - Too Sweet (Official Lyric Video)</td>\n",
              "      <td>Official Lyric Video for “Too Sweet” by Hozier...</td>\n",
              "      <td>2024-04-16T23:35:58Z</td>\n",
              "      <td>https://www.youtube.com/watch?v=aezstCBHOPQ</td>\n",
              "      <td>94764785</td>\n",
              "      <td>909843</td>\n",
              "      <td>NaN</td>\n",
              "      <td>14842</td>\n",
              "      <td>['too sweet hozier', 'unheard', \"you're too sw...</td>\n",
              "      <td>4</td>\n",
              "    </tr>\n",
              "    <tr>\n",
              "      <th>97</th>\n",
              "      <td>Lady Gaga - Disease (Official Lyric Video)</td>\n",
              "      <td>Listen to “Disease”, out now: https://LadyGaga...</td>\n",
              "      <td>2024-10-27T12:03:09Z</td>\n",
              "      <td>https://www.youtube.com/watch?v=Sih0v01Wbek</td>\n",
              "      <td>8862870</td>\n",
              "      <td>268040</td>\n",
              "      <td>NaN</td>\n",
              "      <td>25815</td>\n",
              "      <td>['Lady Gaga', 'Interscope Records', 'Pop']</td>\n",
              "      <td>3</td>\n",
              "    </tr>\n",
              "    <tr>\n",
              "      <th>98</th>\n",
              "      <td>Sophia Scott - Tumbleweed (Official Audio)</td>\n",
              "      <td>Stream \"Tumbleweed\": https://music.empi.re/tum...</td>\n",
              "      <td>2024-12-12T17:15:00Z</td>\n",
              "      <td>https://www.youtube.com/watch?v=_-jylJNLRXM</td>\n",
              "      <td>102977</td>\n",
              "      <td>464</td>\n",
              "      <td>NaN</td>\n",
              "      <td>24</td>\n",
              "      <td>['Sophia Scott', 'Dragonfly EMPIRE', 'Country']</td>\n",
              "      <td>3</td>\n",
              "    </tr>\n",
              "    <tr>\n",
              "      <th>99</th>\n",
              "      <td>Mario - Keep Going (Aaaaahhhhh) (Official Musi...</td>\n",
              "      <td>Mario - Keep Going (Aaaaahhhhh) (Official Musi...</td>\n",
              "      <td>2024-12-18T23:51:32Z</td>\n",
              "      <td>https://www.youtube.com/watch?v=Ws3vO7JW4R0</td>\n",
              "      <td>629822</td>\n",
              "      <td>7986</td>\n",
              "      <td>NaN</td>\n",
              "      <td>461</td>\n",
              "      <td>['mario', 'lil wayne', 'tyga', 'let me love yo...</td>\n",
              "      <td>2</td>\n",
              "    </tr>\n",
              "  </tbody>\n",
              "</table>\n",
              "<p>100 rows × 10 columns</p>\n",
              "</div>\n",
              "    <div class=\"colab-df-buttons\">\n",
              "\n",
              "  <div class=\"colab-df-container\">\n",
              "    <button class=\"colab-df-convert\" onclick=\"convertToInteractive('df-9944bd24-531f-48de-8311-efc8b34cd6d8')\"\n",
              "            title=\"Convert this dataframe to an interactive table.\"\n",
              "            style=\"display:none;\">\n",
              "\n",
              "  <svg xmlns=\"http://www.w3.org/2000/svg\" height=\"24px\" viewBox=\"0 -960 960 960\">\n",
              "    <path d=\"M120-120v-720h720v720H120Zm60-500h600v-160H180v160Zm220 220h160v-160H400v160Zm0 220h160v-160H400v160ZM180-400h160v-160H180v160Zm440 0h160v-160H620v160ZM180-180h160v-160H180v160Zm440 0h160v-160H620v160Z\"/>\n",
              "  </svg>\n",
              "    </button>\n",
              "\n",
              "  <style>\n",
              "    .colab-df-container {\n",
              "      display:flex;\n",
              "      gap: 12px;\n",
              "    }\n",
              "\n",
              "    .colab-df-convert {\n",
              "      background-color: #E8F0FE;\n",
              "      border: none;\n",
              "      border-radius: 50%;\n",
              "      cursor: pointer;\n",
              "      display: none;\n",
              "      fill: #1967D2;\n",
              "      height: 32px;\n",
              "      padding: 0 0 0 0;\n",
              "      width: 32px;\n",
              "    }\n",
              "\n",
              "    .colab-df-convert:hover {\n",
              "      background-color: #E2EBFA;\n",
              "      box-shadow: 0px 1px 2px rgba(60, 64, 67, 0.3), 0px 1px 3px 1px rgba(60, 64, 67, 0.15);\n",
              "      fill: #174EA6;\n",
              "    }\n",
              "\n",
              "    .colab-df-buttons div {\n",
              "      margin-bottom: 4px;\n",
              "    }\n",
              "\n",
              "    [theme=dark] .colab-df-convert {\n",
              "      background-color: #3B4455;\n",
              "      fill: #D2E3FC;\n",
              "    }\n",
              "\n",
              "    [theme=dark] .colab-df-convert:hover {\n",
              "      background-color: #434B5C;\n",
              "      box-shadow: 0px 1px 3px 1px rgba(0, 0, 0, 0.15);\n",
              "      filter: drop-shadow(0px 1px 2px rgba(0, 0, 0, 0.3));\n",
              "      fill: #FFFFFF;\n",
              "    }\n",
              "  </style>\n",
              "\n",
              "    <script>\n",
              "      const buttonEl =\n",
              "        document.querySelector('#df-9944bd24-531f-48de-8311-efc8b34cd6d8 button.colab-df-convert');\n",
              "      buttonEl.style.display =\n",
              "        google.colab.kernel.accessAllowed ? 'block' : 'none';\n",
              "\n",
              "      async function convertToInteractive(key) {\n",
              "        const element = document.querySelector('#df-9944bd24-531f-48de-8311-efc8b34cd6d8');\n",
              "        const dataTable =\n",
              "          await google.colab.kernel.invokeFunction('convertToInteractive',\n",
              "                                                    [key], {});\n",
              "        if (!dataTable) return;\n",
              "\n",
              "        const docLinkHtml = 'Like what you see? Visit the ' +\n",
              "          '<a target=\"_blank\" href=https://colab.research.google.com/notebooks/data_table.ipynb>data table notebook</a>'\n",
              "          + ' to learn more about interactive tables.';\n",
              "        element.innerHTML = '';\n",
              "        dataTable['output_type'] = 'display_data';\n",
              "        await google.colab.output.renderOutput(dataTable, element);\n",
              "        const docLink = document.createElement('div');\n",
              "        docLink.innerHTML = docLinkHtml;\n",
              "        element.appendChild(docLink);\n",
              "      }\n",
              "    </script>\n",
              "  </div>\n",
              "\n",
              "\n",
              "<div id=\"df-963c0b5f-53dc-42eb-a666-e22aae151d01\">\n",
              "  <button class=\"colab-df-quickchart\" onclick=\"quickchart('df-963c0b5f-53dc-42eb-a666-e22aae151d01')\"\n",
              "            title=\"Suggest charts\"\n",
              "            style=\"display:none;\">\n",
              "\n",
              "<svg xmlns=\"http://www.w3.org/2000/svg\" height=\"24px\"viewBox=\"0 0 24 24\"\n",
              "     width=\"24px\">\n",
              "    <g>\n",
              "        <path d=\"M19 3H5c-1.1 0-2 .9-2 2v14c0 1.1.9 2 2 2h14c1.1 0 2-.9 2-2V5c0-1.1-.9-2-2-2zM9 17H7v-7h2v7zm4 0h-2V7h2v10zm4 0h-2v-4h2v4z\"/>\n",
              "    </g>\n",
              "</svg>\n",
              "  </button>\n",
              "\n",
              "<style>\n",
              "  .colab-df-quickchart {\n",
              "      --bg-color: #E8F0FE;\n",
              "      --fill-color: #1967D2;\n",
              "      --hover-bg-color: #E2EBFA;\n",
              "      --hover-fill-color: #174EA6;\n",
              "      --disabled-fill-color: #AAA;\n",
              "      --disabled-bg-color: #DDD;\n",
              "  }\n",
              "\n",
              "  [theme=dark] .colab-df-quickchart {\n",
              "      --bg-color: #3B4455;\n",
              "      --fill-color: #D2E3FC;\n",
              "      --hover-bg-color: #434B5C;\n",
              "      --hover-fill-color: #FFFFFF;\n",
              "      --disabled-bg-color: #3B4455;\n",
              "      --disabled-fill-color: #666;\n",
              "  }\n",
              "\n",
              "  .colab-df-quickchart {\n",
              "    background-color: var(--bg-color);\n",
              "    border: none;\n",
              "    border-radius: 50%;\n",
              "    cursor: pointer;\n",
              "    display: none;\n",
              "    fill: var(--fill-color);\n",
              "    height: 32px;\n",
              "    padding: 0;\n",
              "    width: 32px;\n",
              "  }\n",
              "\n",
              "  .colab-df-quickchart:hover {\n",
              "    background-color: var(--hover-bg-color);\n",
              "    box-shadow: 0 1px 2px rgba(60, 64, 67, 0.3), 0 1px 3px 1px rgba(60, 64, 67, 0.15);\n",
              "    fill: var(--button-hover-fill-color);\n",
              "  }\n",
              "\n",
              "  .colab-df-quickchart-complete:disabled,\n",
              "  .colab-df-quickchart-complete:disabled:hover {\n",
              "    background-color: var(--disabled-bg-color);\n",
              "    fill: var(--disabled-fill-color);\n",
              "    box-shadow: none;\n",
              "  }\n",
              "\n",
              "  .colab-df-spinner {\n",
              "    border: 2px solid var(--fill-color);\n",
              "    border-color: transparent;\n",
              "    border-bottom-color: var(--fill-color);\n",
              "    animation:\n",
              "      spin 1s steps(1) infinite;\n",
              "  }\n",
              "\n",
              "  @keyframes spin {\n",
              "    0% {\n",
              "      border-color: transparent;\n",
              "      border-bottom-color: var(--fill-color);\n",
              "      border-left-color: var(--fill-color);\n",
              "    }\n",
              "    20% {\n",
              "      border-color: transparent;\n",
              "      border-left-color: var(--fill-color);\n",
              "      border-top-color: var(--fill-color);\n",
              "    }\n",
              "    30% {\n",
              "      border-color: transparent;\n",
              "      border-left-color: var(--fill-color);\n",
              "      border-top-color: var(--fill-color);\n",
              "      border-right-color: var(--fill-color);\n",
              "    }\n",
              "    40% {\n",
              "      border-color: transparent;\n",
              "      border-right-color: var(--fill-color);\n",
              "      border-top-color: var(--fill-color);\n",
              "    }\n",
              "    60% {\n",
              "      border-color: transparent;\n",
              "      border-right-color: var(--fill-color);\n",
              "    }\n",
              "    80% {\n",
              "      border-color: transparent;\n",
              "      border-right-color: var(--fill-color);\n",
              "      border-bottom-color: var(--fill-color);\n",
              "    }\n",
              "    90% {\n",
              "      border-color: transparent;\n",
              "      border-bottom-color: var(--fill-color);\n",
              "    }\n",
              "  }\n",
              "</style>\n",
              "\n",
              "  <script>\n",
              "    async function quickchart(key) {\n",
              "      const quickchartButtonEl =\n",
              "        document.querySelector('#' + key + ' button');\n",
              "      quickchartButtonEl.disabled = true;  // To prevent multiple clicks.\n",
              "      quickchartButtonEl.classList.add('colab-df-spinner');\n",
              "      try {\n",
              "        const charts = await google.colab.kernel.invokeFunction(\n",
              "            'suggestCharts', [key], {});\n",
              "      } catch (error) {\n",
              "        console.error('Error during call to suggestCharts:', error);\n",
              "      }\n",
              "      quickchartButtonEl.classList.remove('colab-df-spinner');\n",
              "      quickchartButtonEl.classList.add('colab-df-quickchart-complete');\n",
              "    }\n",
              "    (() => {\n",
              "      let quickchartButtonEl =\n",
              "        document.querySelector('#df-963c0b5f-53dc-42eb-a666-e22aae151d01 button');\n",
              "      quickchartButtonEl.style.display =\n",
              "        google.colab.kernel.accessAllowed ? 'block' : 'none';\n",
              "    })();\n",
              "  </script>\n",
              "</div>\n",
              "\n",
              "  <div id=\"id_27a6d04f-e490-4eb9-9c14-048197202532\">\n",
              "    <style>\n",
              "      .colab-df-generate {\n",
              "        background-color: #E8F0FE;\n",
              "        border: none;\n",
              "        border-radius: 50%;\n",
              "        cursor: pointer;\n",
              "        display: none;\n",
              "        fill: #1967D2;\n",
              "        height: 32px;\n",
              "        padding: 0 0 0 0;\n",
              "        width: 32px;\n",
              "      }\n",
              "\n",
              "      .colab-df-generate:hover {\n",
              "        background-color: #E2EBFA;\n",
              "        box-shadow: 0px 1px 2px rgba(60, 64, 67, 0.3), 0px 1px 3px 1px rgba(60, 64, 67, 0.15);\n",
              "        fill: #174EA6;\n",
              "      }\n",
              "\n",
              "      [theme=dark] .colab-df-generate {\n",
              "        background-color: #3B4455;\n",
              "        fill: #D2E3FC;\n",
              "      }\n",
              "\n",
              "      [theme=dark] .colab-df-generate:hover {\n",
              "        background-color: #434B5C;\n",
              "        box-shadow: 0px 1px 3px 1px rgba(0, 0, 0, 0.15);\n",
              "        filter: drop-shadow(0px 1px 2px rgba(0, 0, 0, 0.3));\n",
              "        fill: #FFFFFF;\n",
              "      }\n",
              "    </style>\n",
              "    <button class=\"colab-df-generate\" onclick=\"generateWithVariable('df')\"\n",
              "            title=\"Generate code using this dataframe.\"\n",
              "            style=\"display:none;\">\n",
              "\n",
              "  <svg xmlns=\"http://www.w3.org/2000/svg\" height=\"24px\"viewBox=\"0 0 24 24\"\n",
              "       width=\"24px\">\n",
              "    <path d=\"M7,19H8.4L18.45,9,17,7.55,7,17.6ZM5,21V16.75L18.45,3.32a2,2,0,0,1,2.83,0l1.4,1.43a1.91,1.91,0,0,1,.58,1.4,1.91,1.91,0,0,1-.58,1.4L9.25,21ZM18.45,9,17,7.55Zm-12,3A5.31,5.31,0,0,0,4.9,8.1,5.31,5.31,0,0,0,1,6.5,5.31,5.31,0,0,0,4.9,4.9,5.31,5.31,0,0,0,6.5,1,5.31,5.31,0,0,0,8.1,4.9,5.31,5.31,0,0,0,12,6.5,5.46,5.46,0,0,0,6.5,12Z\"/>\n",
              "  </svg>\n",
              "    </button>\n",
              "    <script>\n",
              "      (() => {\n",
              "      const buttonEl =\n",
              "        document.querySelector('#id_27a6d04f-e490-4eb9-9c14-048197202532 button.colab-df-generate');\n",
              "      buttonEl.style.display =\n",
              "        google.colab.kernel.accessAllowed ? 'block' : 'none';\n",
              "\n",
              "      buttonEl.onclick = () => {\n",
              "        google.colab.notebook.generateWithVariable('df');\n",
              "      }\n",
              "      })();\n",
              "    </script>\n",
              "  </div>\n",
              "\n",
              "    </div>\n",
              "  </div>\n"
            ],
            "application/vnd.google.colaboratory.intrinsic+json": {
              "type": "dataframe",
              "variable_name": "df",
              "summary": "{\n  \"name\": \"df\",\n  \"rows\": 100,\n  \"fields\": [\n    {\n      \"column\": \"Title\",\n      \"properties\": {\n        \"dtype\": \"string\",\n        \"num_unique_values\": 100,\n        \"samples\": [\n          \"The Weeknd, JENNIE, Lily-Rose Depp - One Of The Girls (Official Video)\",\n          \"Quavo, Lana Del Rey - Tough (Official Video)\",\n          \"Djo - End of Beginning (Official Lyric Video)\"\n        ],\n        \"semantic_type\": \"\",\n        \"description\": \"\"\n      }\n    },\n    {\n      \"column\": \"Description\",\n      \"properties\": {\n        \"dtype\": \"string\",\n        \"num_unique_values\": 99,\n        \"samples\": [\n          \"HIT ME HARD AND SOFT, the new album from Billie Eilish, is out now. Shop exclusive vinyl and CD: https://BillieEilish.lnk.to/Store \\n\\nDirected by Billie Eilish\\n\\nListen to HIT ME HARD AND SOFT: http://BillieEilish.lnk.to/HITMEHARDANDSOFT \\nGet tickets: https://BillieEilish.lnk.to/TourDates\\n\\nFollow Billie Eilish:\\nTikTok: https://BillieEilish.lnk.to/TikTok\\nInstagram: https://BillieEilish.lnk.to/Instagram\\nFacebook: https://BillieEilish.lnk.to/Facebook\\nTwitter: https://BillieEilish.lnk.to/Twitter\\nYouTube: https://www.youtube.com/billieeilish \\nWhatsApp: https://BillieEilish.lnk.to/WhatsApp \\nEmail: https://BillieEilish.lnk.to/SignUp \\nStore: https://BillieEilish.lnk.to/Store \\nCell: +1 (310) 807-3956\\n\\nMusic video by Billie Eilish performing CHIHIRO. \\u00a9 2024 Darkroom/Interscope Records\\n\\nhttp://vevo.ly/6jRUR8\",\n          \"LISA feat. Rosal\\u00eda \\u201cNew Woman\\u201d - https://lisa.lnk.to/NewWoman \\n\\nFollow LISA:\\nhttp://www.instagram.com/lalalalisa_m \\nhttps://www.tiktok.com/@lalalalisa_m \\nhttps://www.youtube.com/@lalalalisa_m\\n\\nFollow Rosal\\u00eda:\\nhttps://www.instagram.com/rosalia.vt\\nhttps://www.tiktok.com/@rosalia\\nhttps://www.facebook.com/rosalia.vt\\nhttps://www.youtube.com/@rosalia \\n\\nFollow WeAreLLOUD:\\nhttp://www.instagram.com/wearelloud \\nhttps://www.tiktok.com/@wearelloud \\nhttp://www.facebook.com/wearelloud \\nhttps://www.youtube.com/@wearelloud\\n\\nCredits:\\nArtist: Lisa @lalalalisa_m , Rosalia @rosalia.vt\\nDirector: Dave Meyers @davemeyers\\nVideo commissioner/label producer: Camille Yorrick @ellymack\\nProduced by Nathan Scherrer @freenjoy \\nArtist management: LLOUD @wearelloud\\nLabel: LLOUD Co. / RCA Records @rcarecords @wearelloud\\n\\nVisual content production: Sam Houston @samhoustonishere, Karina Lopez @karinajlopezz \\nSVP head of marketing: Val Pensa @valpensa\\nSr. marketing director: Gina Messeri @ginamesseri\\nDirector rep: lark creative @larkcreative\\nProd company: freenjoy @freenjoy \\n\\nCinematographer: Scott Cunningham @scottcunninghamdp\\nProduction designer: Luke Carr @wolfdiamond\\nB unit director: Daniel Russell @danielrussellx\\nProduction manager: Giulia Di Stravola @rozengiu\\nEditor: Amanda James at final cut UK @finalcutedit\\nColourist: Dante Pasquinelli at ethos @dantegiani @ethos_studios\\nVFX: mathematic @mathematic.tv\\nAdditional VFX: hush vfx @hush_vfx\\n\\nLISA stylist: Nista \\u2018Nan\\u2019 Permpoon @nanist\\nLISA video stylist: Georgia Pendlebury @georgia.pendlebury\\nLISA hair artist: Hyeyeon Jang @janghyeyeon_\\nLISA makeup artist: Jiyeon Kim @2nakimm\\n\\nRosal\\u00eda stylist: Lorenzo Posocco @lorenzoposocco\\nRosal\\u00eda hair artist: Dimitris Giannetos @dimitrishair\\nRosal\\u00eda makeup artist: Shelby Smith @shelbysmithmakeup\\n\\nCast stylist: Marta Del Rio @marta.del.rio\\nCast hair: Caitlin Wronski @catwron\\nCast makeup: Kayli Rachelle @kayli_rachelle\\n\\nLyrics:\\n[LISA]\\nHere I go\\nBanging it banging it wanna crack these walls\\nBanging it banging it wanna echo through the halls\\nPulling up fresh face brand new d\\u00eda\\nUh Lalisa & Rosalia\\n\\nSoak up, all new\\nSo I cut\\nI go go to the root\\nOff to bloom yeah\\nPurple into gold\\nPain has come and gone again\\nWalked through that fire rediscover ah ah\\n\\nHit it when I serve\\nBitch you better swerve\\nRevving up my au au au aura\\nFocus on my mind\\nTaking my-y time\\nI\\u2019m a new woman \\nWoman\\nBitch you better swerve\\nRevving up my au au au aura\\nFocus on my mind\\nTaking my-y time\\nI\\u2019m a new woman\\nWoman\\nFace eyes body go wild\\nYou want this? I\\u2019m a new woman, woman\\nEyes, I\\u2019m all about mind \\nYou want this?\\nI\\u2019m a new woman, woman\\n\\n[ROSAL\\u00cdA]\\nPor todo lo que soy\\nyo puedo frontear\\nno por lo que tenga\\nsiempre me la dan\\nY mi energ\\u00eda\\ninmaculada\\nbajo perfily tu est\\u00e1s fuera\\n\\nVivo pa cantar \\nno canto pa vivir\\nnac\\u00ed pura as\\u00ed\\nNi una era ser\\u00e1 un flop\\nen mi porvenirputa soy la Rosal\\u00eda\\nsolo s\\u00e9 server\\nLa noche estrellada\\nAs\\u00ed seaHasta la madrugada\\nque as\\u00ed sea\\n\\nPurple into gold\\nPain has come and gone again\\nWalked through that fireI rediscover ah ah\\n\\nYo le meto duro\\nSale bien seguro\\nAcelero mi aura\\nYo estoy enfocada\\nNo presiona nada\\nI'm a new woman woman\\nSale bien seguro\\nAcelero mi aura\\nYo estoy enfocada\\nNo presiona nada\\nI'm a new woman woman\\n\\n[LISA]\\nFace eyes body go wild\\nYou want this? I\\u2019m a new woman, woman\\nEyes, I\\u2019m all about mind\\nYou want this?\\n\\nGimme that gimme that\\nAlpha yuh\\nGimme that bigger the better urgh\\nFeeding you the bloom growing out ma sleeve\\nKissed from a rose baby what a what a meal\\n\\nBad luck a sucker\\nGotta make you tougher\\nTryna say you suffer\\nOh don\\u2019t blame your mother\\nElevate I liberate a new frontier\\nI\\u2019m a new woman\\n\\n#LISA #Rosalia #NEWWOMAN\",\n          \"Official Lyric Video for \\u201cToo Sweet\\u201d by Hozier\\n\\nListen to \\u2018Unreal Unearth: Unending\\u2019 out now - https://hozier.lnk.to/UnrealUnearthUnending\\nNever miss an update from Hozier: https://hozier.lnk.to/signupbioID \\n\\nLyrics\\n\\nIt can\\u2019t be said I\\u2019m an early bird\\nIt\\u2019s ten o\\u2019clock before I say a word\\nBaby, I can never tell\\nHow do you sleep so well\\nYou keep telling me to live right\\nTo go to bed before daylight\\nBut then you wake up for the sunrise\\nYou know you don\\u2019t gotta pretend\\nBaby, now and then\\n\\nDon\\u2019t you just wanna wake up\\nDark as a lake\\nSmelling like a bonfire\\nLost in a haze\\nIf you\\u2019re drunk on life, babe\\nI think it\\u2019s great\\nBut while in this world\\n\\nI think I\\u2019ll take my whiskey neat\\nMy coffee black and my bed at three\\nYou\\u2019re too sweet for me\\nYou\\u2019re too sweet for me\\nI take my whiskey neat\\nMy coffee black and my bed at three\\nYou\\u2019re too sweet for me\\nYou\\u2019re too sweet for me\\n\\nI aim low\\nI aim true and the ground is where I go\\nI work late where I\\u2019m free from the phone\\nAnd the job gets done\\nBut you worry some, I know\\nBut who wants to live forever babe\\nYou treat your mouth as if it\\u2019s heaven\\u2019s gate\\nThe rest of you like you\\u2019re the TSA\\nI wish that I could go along\\nBabe, don\\u2019t get me wrong\\n\\nYou know you\\u2019re bright as the morning\\nAs soft as the rain\\nPretty as a vine\\nAs sweet as a grape\\nIf you can sit in a barrel\\nMaybe I\\u2019ll wait\\nUntil that day \\n\\nI\\u2019d rather take my whiskey neat\\nMy coffee black and my bed at three\\nYou\\u2019re too sweet for me\\nYou\\u2019re too sweet for me\\nI take my whiskey neat\\nMy coffee black and my bed at three\\nYou\\u2019re too sweet for me\\nYou\\u2019re too sweet for me\\n\\nI take my whiskey neat\\nMy coffee black and my bed at three\\nYou\\u2019re too sweet for me\\nYou\\u2019re too sweet for me\\n\\nWatch more videos by Hozier: https://hozier.lnk.to/listen_YD/youtube\\nSubscribe to the official Hozier YouTube channel: https://hozier.lnk.to/subscribeYD\\n\\nFollow Hozier\\nFacebook: https://hozier.lnk.to/follow_FI\\nInstagram: https://Hozier.lnk.to/follow_II\\nTikTok: https://hozier.lnk.to/follow_TTK\\nTwitter: https://hozier.lnk.to/follow_TI\\nWebsite: https://hozier.lnk.to/follow_WI\\nSpotify: https://hozier.lnk.to/follow_SI\\nYouTube: https://hozier.lnk.to/subscribeYD\\n\\n#Hozier #TooSweet #UnheardEP\"\n        ],\n        \"semantic_type\": \"\",\n        \"description\": \"\"\n      }\n    },\n    {\n      \"column\": \"Published At\",\n      \"properties\": {\n        \"dtype\": \"object\",\n        \"num_unique_values\": 100,\n        \"samples\": [\n          \"2024-01-25T18:06:05Z\",\n          \"2024-07-24T11:57:21Z\",\n          \"2024-04-16T23:36:58Z\"\n        ],\n        \"semantic_type\": \"\",\n        \"description\": \"\"\n      }\n    },\n    {\n      \"column\": \"Video URL\",\n      \"properties\": {\n        \"dtype\": \"string\",\n        \"num_unique_values\": 100,\n        \"samples\": [\n          \"https://www.youtube.com/watch?v=Mx92lTYxrJQ\",\n          \"https://www.youtube.com/watch?v=ZkITTCz1mhk\",\n          \"https://www.youtube.com/watch?v=EoVQ_TQFJy0\"\n        ],\n        \"semantic_type\": \"\",\n        \"description\": \"\"\n      }\n    },\n    {\n      \"column\": \"View Count\",\n      \"properties\": {\n        \"dtype\": \"number\",\n        \"std\": 196118390,\n        \"min\": 102977,\n        \"max\": 1041994142,\n        \"num_unique_values\": 100,\n        \"samples\": [\n          194350754,\n          20544872,\n          36071395\n        ],\n        \"semantic_type\": \"\",\n        \"description\": \"\"\n      }\n    },\n    {\n      \"column\": \"Like Count\",\n      \"properties\": {\n        \"dtype\": \"number\",\n        \"std\": 2152570,\n        \"min\": 464,\n        \"max\": 12519378,\n        \"num_unique_values\": 100,\n        \"samples\": [\n          2193110,\n          552105,\n          400848\n        ],\n        \"semantic_type\": \"\",\n        \"description\": \"\"\n      }\n    },\n    {\n      \"column\": \"Dislike Count\",\n      \"properties\": {\n        \"dtype\": \"number\",\n        \"std\": null,\n        \"min\": null,\n        \"max\": null,\n        \"num_unique_values\": 0,\n        \"samples\": [],\n        \"semantic_type\": \"\",\n        \"description\": \"\"\n      }\n    },\n    {\n      \"column\": \"Comment Count\",\n      \"properties\": {\n        \"dtype\": \"number\",\n        \"std\": 86826,\n        \"min\": 24,\n        \"max\": 566242,\n        \"num_unique_values\": 100,\n        \"samples\": [],\n        \"semantic_type\": \"\",\n        \"description\": \"\"\n      }\n    },\n    {\n      \"column\": \"Tags\",\n      \"properties\": {\n        \"dtype\": \"string\",\n        \"num_unique_values\": 96,\n        \"samples\": [],\n        \"semantic_type\": \"\",\n        \"description\": \"\"\n      }\n    },\n    {\n      \"column\": \"Duration (Minutes)\",\n      \"properties\": {\n        \"dtype\": \"number\",\n        \"std\": 0,\n        \"min\": 1,\n        \"max\": 5,\n        \"num_unique_values\": 5,\n        \"samples\": [],\n        \"semantic_type\": \"\",\n        \"description\": \"\"\n      }\n    }\n  ]\n}"
            }
          },
          "metadata": {},
          "execution_count": 12
        }
      ]
    },
    {
      "cell_type": "markdown",
      "source": [
        "#Shape of the dataset"
      ],
      "metadata": {
        "id": "ptceLoSZ51l2"
      }
    },
    {
      "cell_type": "code",
      "source": [
        "print(\"Data Shape:\", df.shape)"
      ],
      "metadata": {
        "colab": {
          "base_uri": "https://localhost:8080/"
        },
        "id": "adeIdpGL5hTE",
        "outputId": "71d29402-5219-45d1-c27c-1bc7dd857436"
      },
      "execution_count": 14,
      "outputs": [
        {
          "output_type": "stream",
          "name": "stdout",
          "text": [
            "Data Shape: (100, 10)\n"
          ]
        }
      ]
    },
    {
      "cell_type": "markdown",
      "source": [
        "#Describing the dataset"
      ],
      "metadata": {
        "id": "FOuPl71a58ZW"
      }
    },
    {
      "cell_type": "code",
      "source": [
        "print(\"\\n\\nData Summary:\\n\", df.describe())"
      ],
      "metadata": {
        "colab": {
          "base_uri": "https://localhost:8080/"
        },
        "id": "FIVeqLsv6CLt",
        "outputId": "e14535ba-4512-4367-8b02-d2e75168d00b"
      },
      "execution_count": 15,
      "outputs": [
        {
          "output_type": "stream",
          "name": "stdout",
          "text": [
            "\n",
            "\n",
            "Data Summary:\n",
            "          View Count    Like Count  Dislike Count  Comment Count  \\\n",
            "count  1.000000e+02  1.000000e+02            0.0      100.00000   \n",
            "mean   1.300487e+08  1.484215e+06            NaN    49625.81000   \n",
            "std    1.961184e+08  2.152571e+06            NaN    86826.27692   \n",
            "min    1.029770e+05  4.640000e+02            NaN       24.00000   \n",
            "25%    1.588183e+07  2.310495e+05            NaN     6554.50000   \n",
            "50%    5.917963e+07  5.722960e+05            NaN    16938.50000   \n",
            "75%    1.760597e+08  1.957974e+06            NaN    46121.50000   \n",
            "max    1.041994e+09  1.251938e+07            NaN   566242.00000   \n",
            "\n",
            "       Duration (Minutes)  \n",
            "count          100.000000  \n",
            "mean             2.920000  \n",
            "std              0.747791  \n",
            "min              1.000000  \n",
            "25%              2.000000  \n",
            "50%              3.000000  \n",
            "75%              3.000000  \n",
            "max              5.000000  \n"
          ]
        }
      ]
    },
    {
      "cell_type": "markdown",
      "source": [
        "#Datatypes of features"
      ],
      "metadata": {
        "id": "zRK4YuY36NNA"
      }
    },
    {
      "cell_type": "code",
      "source": [
        "print(\"\\n\\nData Types:\\n\", df.dtypes)"
      ],
      "metadata": {
        "colab": {
          "base_uri": "https://localhost:8080/"
        },
        "id": "h-SE7gw-6MEF",
        "outputId": "3bb249a5-e55b-47aa-8f82-a90007bdae7f"
      },
      "execution_count": 17,
      "outputs": [
        {
          "output_type": "stream",
          "name": "stdout",
          "text": [
            "\n",
            "\n",
            "Data Types:\n",
            " Title                  object\n",
            "Description            object\n",
            "Published At           object\n",
            "Video URL              object\n",
            "View Count              int64\n",
            "Like Count              int64\n",
            "Dislike Count         float64\n",
            "Comment Count           int64\n",
            "Tags                   object\n",
            "Duration (Minutes)      int64\n",
            "dtype: object\n"
          ]
        }
      ]
    },
    {
      "cell_type": "markdown",
      "source": [
        "##Sentiment Analysis"
      ],
      "metadata": {
        "id": "1t8uQs2LANKy"
      }
    },
    {
      "cell_type": "code",
      "source": [
        "from textblob import TextBlob\n",
        "description = \"Listen to “Disease”, out now: https://LadyGaga\"\n",
        "analysis = TextBlob(description)\n",
        "print(\"Polarity:\", analysis.sentiment.polarity)\n",
        "print(\"Subjectivity:\", analysis.sentiment.subjectivity)"
      ],
      "metadata": {
        "colab": {
          "base_uri": "https://localhost:8080/"
        },
        "id": "f6jBZrrT_Mzw",
        "outputId": "bd67df0f-c2b3-4afd-a813-a8c87c4d122a"
      },
      "execution_count": 34,
      "outputs": [
        {
          "output_type": "stream",
          "name": "stdout",
          "text": [
            "Polarity: 0.0\n",
            "Subjectivity: 0.0\n"
          ]
        }
      ]
    },
    {
      "cell_type": "markdown",
      "source": [
        "##Preprocessing"
      ],
      "metadata": {
        "id": "zpkZXLYH8B0u"
      }
    },
    {
      "cell_type": "markdown",
      "source": [
        "\n",
        "# Replace spaces with underscores in column names"
      ],
      "metadata": {
        "id": "AB-DBpVh8FIG"
      }
    },
    {
      "cell_type": "code",
      "source": [
        "df.columns = df.columns.str.replace(' ', '_')\n",
        "\n",
        "# Remove categorical (non-numeric) columns\n",
        "df2 = df.select_dtypes(include=['number'])\n",
        "\n",
        "print(\"Modified DataFrame:\\n\", df2)"
      ],
      "metadata": {
        "colab": {
          "base_uri": "https://localhost:8080/"
        },
        "id": "zVkUcdBk75et",
        "outputId": "dc08d3d7-5e20-48f0-e992-f527a91c969b"
      },
      "execution_count": 42,
      "outputs": [
        {
          "output_type": "stream",
          "name": "stdout",
          "text": [
            "Modified DataFrame:\n",
            "     View_Count  Like_Count  Dislike_Count  Comment_Count  Duration_(Minutes)\n",
            "0    175794581     2249348            NaN          45304                   4\n",
            "1    143225557      998827            NaN          28947                   3\n",
            "2      5315382       27929            NaN            863                   2\n",
            "3    188781686     3770283            NaN         353065                   4\n",
            "4     34104200      231529            NaN           3336                   3\n",
            "..         ...         ...            ...            ...                 ...\n",
            "95    28827954      662393            NaN          31004                   2\n",
            "96    94764785      909843            NaN          14842                   4\n",
            "97     8862870      268040            NaN          25815                   3\n",
            "98      102977         464            NaN             24                   3\n",
            "99      629822        7986            NaN            461                   2\n",
            "\n",
            "[100 rows x 5 columns]\n"
          ]
        }
      ]
    },
    {
      "cell_type": "markdown",
      "source": [
        "##Dataset after Preprocessing"
      ],
      "metadata": {
        "id": "NjsfyBRpBIFh"
      }
    },
    {
      "cell_type": "code",
      "source": [
        "df2.head()"
      ],
      "metadata": {
        "colab": {
          "base_uri": "https://localhost:8080/",
          "height": 206
        },
        "id": "castFO0fBPLV",
        "outputId": "43923889-5962-4220-967a-f9ffafcd6d48"
      },
      "execution_count": 51,
      "outputs": [
        {
          "output_type": "execute_result",
          "data": {
            "text/plain": [
              "   View_Count  Like_Count  Dislike_Count  Comment_Count  Duration_(Minutes)\n",
              "0   175794581     2249348            NaN          45304                   4\n",
              "1   143225557      998827            NaN          28947                   3\n",
              "2     5315382       27929            NaN            863                   2\n",
              "3   188781686     3770283            NaN         353065                   4\n",
              "4    34104200      231529            NaN           3336                   3"
            ],
            "text/html": [
              "\n",
              "  <div id=\"df-577dcb5c-6684-4138-95fa-952818efc6db\" class=\"colab-df-container\">\n",
              "    <div>\n",
              "<style scoped>\n",
              "    .dataframe tbody tr th:only-of-type {\n",
              "        vertical-align: middle;\n",
              "    }\n",
              "\n",
              "    .dataframe tbody tr th {\n",
              "        vertical-align: top;\n",
              "    }\n",
              "\n",
              "    .dataframe thead th {\n",
              "        text-align: right;\n",
              "    }\n",
              "</style>\n",
              "<table border=\"1\" class=\"dataframe\">\n",
              "  <thead>\n",
              "    <tr style=\"text-align: right;\">\n",
              "      <th></th>\n",
              "      <th>View_Count</th>\n",
              "      <th>Like_Count</th>\n",
              "      <th>Dislike_Count</th>\n",
              "      <th>Comment_Count</th>\n",
              "      <th>Duration_(Minutes)</th>\n",
              "    </tr>\n",
              "  </thead>\n",
              "  <tbody>\n",
              "    <tr>\n",
              "      <th>0</th>\n",
              "      <td>175794581</td>\n",
              "      <td>2249348</td>\n",
              "      <td>NaN</td>\n",
              "      <td>45304</td>\n",
              "      <td>4</td>\n",
              "    </tr>\n",
              "    <tr>\n",
              "      <th>1</th>\n",
              "      <td>143225557</td>\n",
              "      <td>998827</td>\n",
              "      <td>NaN</td>\n",
              "      <td>28947</td>\n",
              "      <td>3</td>\n",
              "    </tr>\n",
              "    <tr>\n",
              "      <th>2</th>\n",
              "      <td>5315382</td>\n",
              "      <td>27929</td>\n",
              "      <td>NaN</td>\n",
              "      <td>863</td>\n",
              "      <td>2</td>\n",
              "    </tr>\n",
              "    <tr>\n",
              "      <th>3</th>\n",
              "      <td>188781686</td>\n",
              "      <td>3770283</td>\n",
              "      <td>NaN</td>\n",
              "      <td>353065</td>\n",
              "      <td>4</td>\n",
              "    </tr>\n",
              "    <tr>\n",
              "      <th>4</th>\n",
              "      <td>34104200</td>\n",
              "      <td>231529</td>\n",
              "      <td>NaN</td>\n",
              "      <td>3336</td>\n",
              "      <td>3</td>\n",
              "    </tr>\n",
              "  </tbody>\n",
              "</table>\n",
              "</div>\n",
              "    <div class=\"colab-df-buttons\">\n",
              "\n",
              "  <div class=\"colab-df-container\">\n",
              "    <button class=\"colab-df-convert\" onclick=\"convertToInteractive('df-577dcb5c-6684-4138-95fa-952818efc6db')\"\n",
              "            title=\"Convert this dataframe to an interactive table.\"\n",
              "            style=\"display:none;\">\n",
              "\n",
              "  <svg xmlns=\"http://www.w3.org/2000/svg\" height=\"24px\" viewBox=\"0 -960 960 960\">\n",
              "    <path d=\"M120-120v-720h720v720H120Zm60-500h600v-160H180v160Zm220 220h160v-160H400v160Zm0 220h160v-160H400v160ZM180-400h160v-160H180v160Zm440 0h160v-160H620v160ZM180-180h160v-160H180v160Zm440 0h160v-160H620v160Z\"/>\n",
              "  </svg>\n",
              "    </button>\n",
              "\n",
              "  <style>\n",
              "    .colab-df-container {\n",
              "      display:flex;\n",
              "      gap: 12px;\n",
              "    }\n",
              "\n",
              "    .colab-df-convert {\n",
              "      background-color: #E8F0FE;\n",
              "      border: none;\n",
              "      border-radius: 50%;\n",
              "      cursor: pointer;\n",
              "      display: none;\n",
              "      fill: #1967D2;\n",
              "      height: 32px;\n",
              "      padding: 0 0 0 0;\n",
              "      width: 32px;\n",
              "    }\n",
              "\n",
              "    .colab-df-convert:hover {\n",
              "      background-color: #E2EBFA;\n",
              "      box-shadow: 0px 1px 2px rgba(60, 64, 67, 0.3), 0px 1px 3px 1px rgba(60, 64, 67, 0.15);\n",
              "      fill: #174EA6;\n",
              "    }\n",
              "\n",
              "    .colab-df-buttons div {\n",
              "      margin-bottom: 4px;\n",
              "    }\n",
              "\n",
              "    [theme=dark] .colab-df-convert {\n",
              "      background-color: #3B4455;\n",
              "      fill: #D2E3FC;\n",
              "    }\n",
              "\n",
              "    [theme=dark] .colab-df-convert:hover {\n",
              "      background-color: #434B5C;\n",
              "      box-shadow: 0px 1px 3px 1px rgba(0, 0, 0, 0.15);\n",
              "      filter: drop-shadow(0px 1px 2px rgba(0, 0, 0, 0.3));\n",
              "      fill: #FFFFFF;\n",
              "    }\n",
              "  </style>\n",
              "\n",
              "    <script>\n",
              "      const buttonEl =\n",
              "        document.querySelector('#df-577dcb5c-6684-4138-95fa-952818efc6db button.colab-df-convert');\n",
              "      buttonEl.style.display =\n",
              "        google.colab.kernel.accessAllowed ? 'block' : 'none';\n",
              "\n",
              "      async function convertToInteractive(key) {\n",
              "        const element = document.querySelector('#df-577dcb5c-6684-4138-95fa-952818efc6db');\n",
              "        const dataTable =\n",
              "          await google.colab.kernel.invokeFunction('convertToInteractive',\n",
              "                                                    [key], {});\n",
              "        if (!dataTable) return;\n",
              "\n",
              "        const docLinkHtml = 'Like what you see? Visit the ' +\n",
              "          '<a target=\"_blank\" href=https://colab.research.google.com/notebooks/data_table.ipynb>data table notebook</a>'\n",
              "          + ' to learn more about interactive tables.';\n",
              "        element.innerHTML = '';\n",
              "        dataTable['output_type'] = 'display_data';\n",
              "        await google.colab.output.renderOutput(dataTable, element);\n",
              "        const docLink = document.createElement('div');\n",
              "        docLink.innerHTML = docLinkHtml;\n",
              "        element.appendChild(docLink);\n",
              "      }\n",
              "    </script>\n",
              "  </div>\n",
              "\n",
              "\n",
              "<div id=\"df-eaab8e8d-9757-4472-b73e-f2581d128eaf\">\n",
              "  <button class=\"colab-df-quickchart\" onclick=\"quickchart('df-eaab8e8d-9757-4472-b73e-f2581d128eaf')\"\n",
              "            title=\"Suggest charts\"\n",
              "            style=\"display:none;\">\n",
              "\n",
              "<svg xmlns=\"http://www.w3.org/2000/svg\" height=\"24px\"viewBox=\"0 0 24 24\"\n",
              "     width=\"24px\">\n",
              "    <g>\n",
              "        <path d=\"M19 3H5c-1.1 0-2 .9-2 2v14c0 1.1.9 2 2 2h14c1.1 0 2-.9 2-2V5c0-1.1-.9-2-2-2zM9 17H7v-7h2v7zm4 0h-2V7h2v10zm4 0h-2v-4h2v4z\"/>\n",
              "    </g>\n",
              "</svg>\n",
              "  </button>\n",
              "\n",
              "<style>\n",
              "  .colab-df-quickchart {\n",
              "      --bg-color: #E8F0FE;\n",
              "      --fill-color: #1967D2;\n",
              "      --hover-bg-color: #E2EBFA;\n",
              "      --hover-fill-color: #174EA6;\n",
              "      --disabled-fill-color: #AAA;\n",
              "      --disabled-bg-color: #DDD;\n",
              "  }\n",
              "\n",
              "  [theme=dark] .colab-df-quickchart {\n",
              "      --bg-color: #3B4455;\n",
              "      --fill-color: #D2E3FC;\n",
              "      --hover-bg-color: #434B5C;\n",
              "      --hover-fill-color: #FFFFFF;\n",
              "      --disabled-bg-color: #3B4455;\n",
              "      --disabled-fill-color: #666;\n",
              "  }\n",
              "\n",
              "  .colab-df-quickchart {\n",
              "    background-color: var(--bg-color);\n",
              "    border: none;\n",
              "    border-radius: 50%;\n",
              "    cursor: pointer;\n",
              "    display: none;\n",
              "    fill: var(--fill-color);\n",
              "    height: 32px;\n",
              "    padding: 0;\n",
              "    width: 32px;\n",
              "  }\n",
              "\n",
              "  .colab-df-quickchart:hover {\n",
              "    background-color: var(--hover-bg-color);\n",
              "    box-shadow: 0 1px 2px rgba(60, 64, 67, 0.3), 0 1px 3px 1px rgba(60, 64, 67, 0.15);\n",
              "    fill: var(--button-hover-fill-color);\n",
              "  }\n",
              "\n",
              "  .colab-df-quickchart-complete:disabled,\n",
              "  .colab-df-quickchart-complete:disabled:hover {\n",
              "    background-color: var(--disabled-bg-color);\n",
              "    fill: var(--disabled-fill-color);\n",
              "    box-shadow: none;\n",
              "  }\n",
              "\n",
              "  .colab-df-spinner {\n",
              "    border: 2px solid var(--fill-color);\n",
              "    border-color: transparent;\n",
              "    border-bottom-color: var(--fill-color);\n",
              "    animation:\n",
              "      spin 1s steps(1) infinite;\n",
              "  }\n",
              "\n",
              "  @keyframes spin {\n",
              "    0% {\n",
              "      border-color: transparent;\n",
              "      border-bottom-color: var(--fill-color);\n",
              "      border-left-color: var(--fill-color);\n",
              "    }\n",
              "    20% {\n",
              "      border-color: transparent;\n",
              "      border-left-color: var(--fill-color);\n",
              "      border-top-color: var(--fill-color);\n",
              "    }\n",
              "    30% {\n",
              "      border-color: transparent;\n",
              "      border-left-color: var(--fill-color);\n",
              "      border-top-color: var(--fill-color);\n",
              "      border-right-color: var(--fill-color);\n",
              "    }\n",
              "    40% {\n",
              "      border-color: transparent;\n",
              "      border-right-color: var(--fill-color);\n",
              "      border-top-color: var(--fill-color);\n",
              "    }\n",
              "    60% {\n",
              "      border-color: transparent;\n",
              "      border-right-color: var(--fill-color);\n",
              "    }\n",
              "    80% {\n",
              "      border-color: transparent;\n",
              "      border-right-color: var(--fill-color);\n",
              "      border-bottom-color: var(--fill-color);\n",
              "    }\n",
              "    90% {\n",
              "      border-color: transparent;\n",
              "      border-bottom-color: var(--fill-color);\n",
              "    }\n",
              "  }\n",
              "</style>\n",
              "\n",
              "  <script>\n",
              "    async function quickchart(key) {\n",
              "      const quickchartButtonEl =\n",
              "        document.querySelector('#' + key + ' button');\n",
              "      quickchartButtonEl.disabled = true;  // To prevent multiple clicks.\n",
              "      quickchartButtonEl.classList.add('colab-df-spinner');\n",
              "      try {\n",
              "        const charts = await google.colab.kernel.invokeFunction(\n",
              "            'suggestCharts', [key], {});\n",
              "      } catch (error) {\n",
              "        console.error('Error during call to suggestCharts:', error);\n",
              "      }\n",
              "      quickchartButtonEl.classList.remove('colab-df-spinner');\n",
              "      quickchartButtonEl.classList.add('colab-df-quickchart-complete');\n",
              "    }\n",
              "    (() => {\n",
              "      let quickchartButtonEl =\n",
              "        document.querySelector('#df-eaab8e8d-9757-4472-b73e-f2581d128eaf button');\n",
              "      quickchartButtonEl.style.display =\n",
              "        google.colab.kernel.accessAllowed ? 'block' : 'none';\n",
              "    })();\n",
              "  </script>\n",
              "</div>\n",
              "\n",
              "    </div>\n",
              "  </div>\n"
            ],
            "application/vnd.google.colaboratory.intrinsic+json": {
              "type": "dataframe",
              "variable_name": "df2",
              "summary": "{\n  \"name\": \"df2\",\n  \"rows\": 100,\n  \"fields\": [\n    {\n      \"column\": \"View_Count\",\n      \"properties\": {\n        \"dtype\": \"number\",\n        \"std\": 196118390,\n        \"min\": 102977,\n        \"max\": 1041994142,\n        \"num_unique_values\": 100,\n        \"samples\": [\n          194350754,\n          20544872,\n          36071395\n        ],\n        \"semantic_type\": \"\",\n        \"description\": \"\"\n      }\n    },\n    {\n      \"column\": \"Like_Count\",\n      \"properties\": {\n        \"dtype\": \"number\",\n        \"std\": 2152570,\n        \"min\": 464,\n        \"max\": 12519378,\n        \"num_unique_values\": 100,\n        \"samples\": [\n          2193110,\n          552105,\n          400848\n        ],\n        \"semantic_type\": \"\",\n        \"description\": \"\"\n      }\n    },\n    {\n      \"column\": \"Dislike_Count\",\n      \"properties\": {\n        \"dtype\": \"number\",\n        \"std\": null,\n        \"min\": null,\n        \"max\": null,\n        \"num_unique_values\": 0,\n        \"samples\": [],\n        \"semantic_type\": \"\",\n        \"description\": \"\"\n      }\n    },\n    {\n      \"column\": \"Comment_Count\",\n      \"properties\": {\n        \"dtype\": \"number\",\n        \"std\": 86826,\n        \"min\": 24,\n        \"max\": 566242,\n        \"num_unique_values\": 100,\n        \"samples\": [],\n        \"semantic_type\": \"\",\n        \"description\": \"\"\n      }\n    },\n    {\n      \"column\": \"Duration_(Minutes)\",\n      \"properties\": {\n        \"dtype\": \"number\",\n        \"std\": 0,\n        \"min\": 1,\n        \"max\": 5,\n        \"num_unique_values\": 5,\n        \"samples\": [],\n        \"semantic_type\": \"\",\n        \"description\": \"\"\n      }\n    }\n  ]\n}"
            }
          },
          "metadata": {},
          "execution_count": 51
        }
      ]
    },
    {
      "cell_type": "markdown",
      "source": [
        "#checking for null values"
      ],
      "metadata": {
        "id": "D_fuor6y6SeM"
      }
    },
    {
      "cell_type": "code",
      "source": [
        "print(\"\\n\\nNull Values:\\n\", df2.isnull().sum())"
      ],
      "metadata": {
        "colab": {
          "base_uri": "https://localhost:8080/"
        },
        "id": "OZwhrKFQ5wZu",
        "outputId": "4a631398-3cdf-4156-9725-cc9c20a548c2"
      },
      "execution_count": 52,
      "outputs": [
        {
          "output_type": "stream",
          "name": "stdout",
          "text": [
            "\n",
            "\n",
            "Null Values:\n",
            " View_Count              0\n",
            "Like_Count              0\n",
            "Dislike_Count         100\n",
            "Comment_Count           0\n",
            "Duration_(Minutes)      0\n",
            "dtype: int64\n"
          ]
        }
      ]
    },
    {
      "cell_type": "markdown",
      "source": [
        "\n",
        "\n",
        "##df2 = Caterorical data converted into Numerical and reshaped the dataset\n",
        "\n",
        "\n",
        "##df1 = Normalised data (final Preprocessed data)\n"
      ],
      "metadata": {
        "id": "L6eCYezxDfon"
      }
    },
    {
      "cell_type": "markdown",
      "source": [
        "##Normalisation"
      ],
      "metadata": {
        "id": "kpASssxSDMF0"
      }
    },
    {
      "cell_type": "code",
      "source": [
        "import warnings\n",
        "# Ignore specific warnings\n",
        "warnings.filterwarnings(\"ignore\", category=RuntimeWarning)\n",
        "\n",
        "from sklearn.preprocessing import MinMaxScaler\n",
        "# Assuming df_numeric is the DataFrame with only numeric columns\n",
        "scaler = MinMaxScaler()\n",
        "\n",
        "# Apply normalization\n",
        "df1 = pd.DataFrame(scaler.fit_transform(df2), columns=df_numeric.columns)\n",
        "\n",
        "print(\"Normalized DataFrame:\\n\", df1)\n"
      ],
      "metadata": {
        "colab": {
          "base_uri": "https://localhost:8080/"
        },
        "id": "XdX_KPd9Byiu",
        "outputId": "c9b63ae3-83c6-4f9b-ed6b-c80988177d67"
      },
      "execution_count": 49,
      "outputs": [
        {
          "output_type": "stream",
          "name": "stdout",
          "text": [
            "Normalized DataFrame:\n",
            "     View_Count  Like_Count  Dislike_Count  Comment_Count  Duration_(Minutes)\n",
            "0     0.168628    0.179639            NaN       0.079969                0.75\n",
            "1     0.137368    0.079748            NaN       0.051081                0.50\n",
            "2     0.005003    0.002194            NaN       0.001482                0.25\n",
            "3     0.181093    0.301130            NaN       0.623507                0.75\n",
            "4     0.032634    0.018457            NaN       0.005849                0.50\n",
            "..         ...         ...            ...            ...                 ...\n",
            "95    0.027570    0.052874            NaN       0.054714                0.25\n",
            "96    0.090856    0.072640            NaN       0.026170                0.75\n",
            "97    0.008408    0.021374            NaN       0.045550                0.50\n",
            "98    0.000000    0.000000            NaN       0.000000                0.50\n",
            "99    0.000506    0.000601            NaN       0.000772                0.25\n",
            "\n",
            "[100 rows x 5 columns]\n"
          ]
        }
      ]
    },
    {
      "cell_type": "markdown",
      "source": [
        "##Data Visualisation"
      ],
      "metadata": {
        "id": "db4fIgbk8hLY"
      }
    },
    {
      "cell_type": "code",
      "source": [
        "import matplotlib.pyplot as plt\n",
        "plt.figure(figsize=(10, 6))\n",
        "plt.scatter(df1['View_Count'], df1['Like_Count'])\n",
        "plt.xlabel('View Count')\n",
        "plt.ylabel('Like Count')\n",
        "plt.title('Scatter Plot of View Count vs. Like Count')\n",
        "plt.grid(True) # Add grid for readability\n",
        "plt.show()\n"
      ],
      "metadata": {
        "colab": {
          "base_uri": "https://localhost:8080/",
          "height": 564
        },
        "id": "us8dhoYU6HHG",
        "outputId": "9b0e6cbf-da6d-4fde-e094-96be8512ba2c"
      },
      "execution_count": 50,
      "outputs": [
        {
          "output_type": "display_data",
          "data": {
            "text/plain": [
              "<Figure size 1000x600 with 1 Axes>"
            ],
            "image/png": "[encoded data removed]"
          },
          "metadata": {}
        }
      ]
    },
    {
      "cell_type": "markdown",
      "source": [
        "##Correlation Analysis"
      ],
      "metadata": {
        "id": "GQMK1pZS84Tg"
      }
    },
    {
      "cell_type": "code",
      "source": [
        "import numpy as np\n",
        "correlation = np.corrcoef(df1['View_Count'], df1['Like_Count'])[0, 1]\n",
        "print(\"Correlation:\", correlation)"
      ],
      "metadata": {
        "colab": {
          "base_uri": "https://localhost:8080/"
        },
        "id": "DAmHhrSl6ppA",
        "outputId": "a99ff099-868b-4925-b991-8fa790e148e9"
      },
      "execution_count": 45,
      "outputs": [
        {
          "output_type": "stream",
          "name": "stdout",
          "text": [
            "Correlation: 0.910133839396794\n"
          ]
        }
      ]
    },
    {
      "cell_type": "markdown",
      "source": [
        "# Build Regression Models"
      ],
      "metadata": {
        "id": "NX8yGtLA9Ztq"
      }
    },
    {
      "cell_type": "code",
      "source": [
        "import statsmodels.api as sm\n",
        "X = df1[['View_Count', 'Comment_Count']]\n",
        "X = sm.add_constant(X)\n",
        "y = df1['Like_Count']\n",
        "model = sm.OLS(y, X).fit()\n",
        "print(model.summary())\n"
      ],
      "metadata": {
        "colab": {
          "base_uri": "https://localhost:8080/"
        },
        "id": "RMEYZYGY9Cdq",
        "outputId": "bd3465fe-9acc-4322-cf68-a299086256c5"
      },
      "execution_count": 46,
      "outputs": [
        {
          "output_type": "stream",
          "name": "stdout",
          "text": [
            "                            OLS Regression Results                            \n",
            "==============================================================================\n",
            "Dep. Variable:             Like_Count   R-squared:                       0.964\n",
            "Model:                            OLS   Adj. R-squared:                  0.964\n",
            "Method:                 Least Squares   F-statistic:                     1314.\n",
            "Date:                Fri, 10 Jan 2025   Prob (F-statistic):           5.47e-71\n",
            "Time:                        07:05:11   Log-Likelihood:                 201.46\n",
            "No. Observations:                 100   AIC:                            -396.9\n",
            "Df Residuals:                      97   BIC:                            -389.1\n",
            "Df Model:                           2                                         \n",
            "Covariance Type:            nonrobust                                         \n",
            "=================================================================================\n",
            "                    coef    std err          t      P>|t|      [0.025      0.975]\n",
            "---------------------------------------------------------------------------------\n",
            "const             0.0033      0.004      0.837      0.404      -0.005       0.011\n",
            "View_Count        0.5388      0.023     23.251      0.000       0.493       0.585\n",
            "Comment_Count     0.5478      0.028     19.258      0.000       0.491       0.604\n",
            "==============================================================================\n",
            "Omnibus:                       26.977   Durbin-Watson:                   2.036\n",
            "Prob(Omnibus):                  0.000   Jarque-Bera (JB):              258.129\n",
            "Skew:                          -0.244   Prob(JB):                     8.87e-57\n",
            "Kurtosis:                      10.856   Cond. No.                         10.4\n",
            "==============================================================================\n",
            "\n",
            "Notes:\n",
            "[1] Standard Errors assume that the covariance matrix of the errors is correctly specified.\n"
          ]
        }
      ]
    },
    {
      "cell_type": "markdown",
      "source": [
        "#Visualize Trends"
      ],
      "metadata": {
        "id": "qfYXPYDb-ZWS"
      }
    },
    {
      "cell_type": "code",
      "source": [
        "plt.scatter(df1['View_Count'], df1['Like_Count'], color='green')\n",
        "plt.xlabel('Views')\n",
        "plt.ylabel('Likes')\n",
        "plt.title('Likes vs. Views')\n",
        "plt.show()"
      ],
      "metadata": {
        "colab": {
          "base_uri": "https://localhost:8080/",
          "height": 472
        },
        "id": "5j-nHe7S9liM",
        "outputId": "e82fe7c9-25dc-419d-8b3b-0001e7858a57"
      },
      "execution_count": 47,
      "outputs": [
        {
          "output_type": "display_data",
          "data": {
            "text/plain": [
              "<Figure size 640x480 with 1 Axes>"
            ],
            "image/png": "[encoded data removed]"
          },
          "metadata": {}
        }
      ]
    },
    {
      "cell_type": "code",
      "source": [
        "plt.scatter(df1['Duration_(Minutes)'], df1['Like_Count'], color='yellow')\n",
        "plt.xlabel('Duration of video')\n",
        "plt.ylabel('Likes')\n",
        "plt.title('Likes vs. Duration (in Minutes)')\n",
        "plt.show()"
      ],
      "metadata": {
        "colab": {
          "base_uri": "https://localhost:8080/",
          "height": 472
        },
        "id": "t1VIXW-h-mNd",
        "outputId": "cb3b65b6-13b7-46f0-d603-8faac9168305"
      },
      "execution_count": 48,
      "outputs": [
        {
          "output_type": "display_data",
          "data": {
            "text/plain": [
              "<Figure size 640x480 with 1 Axes>"
            ],
            "image/png": "[encoded data removed]"
          },
          "metadata": {}
        }
      ]
    },
    {
      "cell_type": "code",
      "source": [],
      "metadata": {
        "id": "4LQEsuiOAoxc"
      },
      "execution_count": 48,
      "outputs": []
    }
  ]
}