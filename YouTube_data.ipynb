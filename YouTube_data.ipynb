{
  "nbformat": 4,
  "nbformat_minor": 0,
  "metadata": {
    "colab": {
      "provenance": [],
      "authorship_tag": "ABX9TyPXHOnKA8hvuCS4gjsdVcQ1",
      "include_colab_link": true
    },
    "kernelspec": {
      "name": "python3",
      "display_name": "Python 3"
    },
    "language_info": {
      "name": "python"
    }
  },
  "cells": [
    {
      "cell_type": "markdown",
      "metadata": {
        "id": "view-in-github",
        "colab_type": "text"
      },
      "source": [
        "<a href=\"https://colab.research.google.com/github/Chandrashekar0123/Data_Science/blob/main/YouTube_data.ipynb\" target=\"_parent\"><img src=\"https://colab.research.google.com/assets/colab-badge.svg\" alt=\"Open In Colab\"/></a>"
      ]
    },
    {
      "cell_type": "markdown",
      "source": [
        "##Accesing YouTube data"
      ],
      "metadata": {
        "id": "ZrV5O39SkaiK"
      }
    },
    {
      "cell_type": "markdown",
      "source": [
        "#Billboard Hot 100 playlist\n",
        "\n",
        "The Billboard Hot 100 playlist features the top 100 songs in the U.S., updated weekly. It includes the biggest hits across various genres, reflecting the current chart rankings based on streaming, radio play, and sales. The playlist is a great way to discover the latest popular music and chart-toppers."
      ],
      "metadata": {
        "id": "vwKwuiR5jWmI"
      }
    },
    {
      "cell_type": "markdown",
      "source": [
        "##Install Google API client, pandas, and openpyxl libraries"
      ],
      "metadata": {
        "id": "tnj2nU-kjXM6"
      }
    },
    {
      "cell_type": "code",
      "execution_count": null,
      "metadata": {
        "colab": {
          "base_uri": "https://localhost:8080/"
        },
        "id": "M6HC1X-s9CiW",
        "outputId": "3b23f8d5-14d6-4dca-bd68-ac1a19da825d"
      },
      "outputs": [
        {
          "output_type": "stream",
          "name": "stdout",
          "text": [
            "Requirement already satisfied: google-api-python-client in /usr/local/lib/python3.10/dist-packages (2.155.0)\n",
            "Requirement already satisfied: pandas in /usr/local/lib/python3.10/dist-packages (2.2.2)\n",
            "Requirement already satisfied: openpyxl in /usr/local/lib/python3.10/dist-packages (3.1.5)\n",
            "Requirement already satisfied: httplib2<1.dev0,>=0.19.0 in /usr/local/lib/python3.10/dist-packages (from google-api-python-client) (0.22.0)\n",
            "Requirement already satisfied: google-auth!=2.24.0,!=2.25.0,<3.0.0.dev0,>=1.32.0 in /usr/local/lib/python3.10/dist-packages (from google-api-python-client) (2.27.0)\n",
            "Requirement already satisfied: google-auth-httplib2<1.0.0,>=0.2.0 in /usr/local/lib/python3.10/dist-packages (from google-api-python-client) (0.2.0)\n",
            "Requirement already satisfied: google-api-core!=2.0.*,!=2.1.*,!=2.2.*,!=2.3.0,<3.0.0.dev0,>=1.31.5 in /usr/local/lib/python3.10/dist-packages (from google-api-python-client) (2.19.2)\n",
            "Requirement already satisfied: uritemplate<5,>=3.0.1 in /usr/local/lib/python3.10/dist-packages (from google-api-python-client) (4.1.1)\n",
            "Requirement already satisfied: numpy>=1.22.4 in /usr/local/lib/python3.10/dist-packages (from pandas) (1.26.4)\n",
            "Requirement already satisfied: python-dateutil>=2.8.2 in /usr/local/lib/python3.10/dist-packages (from pandas) (2.8.2)\n",
            "Requirement already satisfied: pytz>=2020.1 in /usr/local/lib/python3.10/dist-packages (from pandas) (2024.2)\n",
            "Requirement already satisfied: tzdata>=2022.7 in /usr/local/lib/python3.10/dist-packages (from pandas) (2024.2)\n",
            "Requirement already satisfied: et-xmlfile in /usr/local/lib/python3.10/dist-packages (from openpyxl) (2.0.0)\n",
            "Requirement already satisfied: googleapis-common-protos<2.0.dev0,>=1.56.2 in /usr/local/lib/python3.10/dist-packages (from google-api-core!=2.0.*,!=2.1.*,!=2.2.*,!=2.3.0,<3.0.0.dev0,>=1.31.5->google-api-python-client) (1.66.0)\n",
            "Requirement already satisfied: protobuf!=3.20.0,!=3.20.1,!=4.21.0,!=4.21.1,!=4.21.2,!=4.21.3,!=4.21.4,!=4.21.5,<6.0.0.dev0,>=3.19.5 in /usr/local/lib/python3.10/dist-packages (from google-api-core!=2.0.*,!=2.1.*,!=2.2.*,!=2.3.0,<3.0.0.dev0,>=1.31.5->google-api-python-client) (4.25.5)\n",
            "Requirement already satisfied: proto-plus<2.0.0dev,>=1.22.3 in /usr/local/lib/python3.10/dist-packages (from google-api-core!=2.0.*,!=2.1.*,!=2.2.*,!=2.3.0,<3.0.0.dev0,>=1.31.5->google-api-python-client) (1.25.0)\n",
            "Requirement already satisfied: requests<3.0.0.dev0,>=2.18.0 in /usr/local/lib/python3.10/dist-packages (from google-api-core!=2.0.*,!=2.1.*,!=2.2.*,!=2.3.0,<3.0.0.dev0,>=1.31.5->google-api-python-client) (2.32.3)\n",
            "Requirement already satisfied: cachetools<6.0,>=2.0.0 in /usr/local/lib/python3.10/dist-packages (from google-auth!=2.24.0,!=2.25.0,<3.0.0.dev0,>=1.32.0->google-api-python-client) (5.5.0)\n",
            "Requirement already satisfied: pyasn1-modules>=0.2.1 in /usr/local/lib/python3.10/dist-packages (from google-auth!=2.24.0,!=2.25.0,<3.0.0.dev0,>=1.32.0->google-api-python-client) (0.4.1)\n",
            "Requirement already satisfied: rsa<5,>=3.1.4 in /usr/local/lib/python3.10/dist-packages (from google-auth!=2.24.0,!=2.25.0,<3.0.0.dev0,>=1.32.0->google-api-python-client) (4.9)\n",
            "Requirement already satisfied: pyparsing!=3.0.0,!=3.0.1,!=3.0.2,!=3.0.3,<4,>=2.4.2 in /usr/local/lib/python3.10/dist-packages (from httplib2<1.dev0,>=0.19.0->google-api-python-client) (3.2.1)\n",
            "Requirement already satisfied: six>=1.5 in /usr/local/lib/python3.10/dist-packages (from python-dateutil>=2.8.2->pandas) (1.17.0)\n",
            "Requirement already satisfied: pyasn1<0.7.0,>=0.4.6 in /usr/local/lib/python3.10/dist-packages (from pyasn1-modules>=0.2.1->google-auth!=2.24.0,!=2.25.0,<3.0.0.dev0,>=1.32.0->google-api-python-client) (0.6.1)\n",
            "Requirement already satisfied: charset-normalizer<4,>=2 in /usr/local/lib/python3.10/dist-packages (from requests<3.0.0.dev0,>=2.18.0->google-api-core!=2.0.*,!=2.1.*,!=2.2.*,!=2.3.0,<3.0.0.dev0,>=1.31.5->google-api-python-client) (3.4.1)\n",
            "Requirement already satisfied: idna<4,>=2.5 in /usr/local/lib/python3.10/dist-packages (from requests<3.0.0.dev0,>=2.18.0->google-api-core!=2.0.*,!=2.1.*,!=2.2.*,!=2.3.0,<3.0.0.dev0,>=1.31.5->google-api-python-client) (3.10)\n",
            "Requirement already satisfied: urllib3<3,>=1.21.1 in /usr/local/lib/python3.10/dist-packages (from requests<3.0.0.dev0,>=2.18.0->google-api-core!=2.0.*,!=2.1.*,!=2.2.*,!=2.3.0,<3.0.0.dev0,>=1.31.5->google-api-python-client) (2.3.0)\n",
            "Requirement already satisfied: certifi>=2017.4.17 in /usr/local/lib/python3.10/dist-packages (from requests<3.0.0.dev0,>=2.18.0->google-api-core!=2.0.*,!=2.1.*,!=2.2.*,!=2.3.0,<3.0.0.dev0,>=1.31.5->google-api-python-client) (2024.12.14)\n"
          ]
        }
      ],
      "source": [
        "!pip install google-api-python-client pandas openpyxl"
      ]
    },
    {
      "cell_type": "markdown",
      "source": [
        "##Import all neccesary libraries"
      ],
      "metadata": {
        "id": "DbS0dV3zjYFO"
      }
    },
    {
      "cell_type": "code",
      "source": [
        "from googleapiclient.discovery import build\n",
        "import pandas as pd\n",
        "import re"
      ],
      "metadata": {
        "id": "0eWa1MOLiM-9"
      },
      "execution_count": null,
      "outputs": []
    },
    {
      "cell_type": "markdown",
      "source": [
        "## Your YouTube API Key. Make sure to replace this with your own key from the Google Cloud Console."
      ],
      "metadata": {
        "id": "CvqKGoVyjYob"
      }
    },
    {
      "cell_type": "code",
      "source": [
        "# Replace with your API Key\n",
        "API_KEY = 'AIzaSyBP-MmUNm-FgbMXWclmLSUdrTQHbpPI8Essdfg345hdfg'"
      ],
      "metadata": {
        "id": "tUONkiiMiPdn"
      },
      "execution_count": null,
      "outputs": []
    },
    {
      "cell_type": "markdown",
      "source": [
        "# Create a YouTube API client"
      ],
      "metadata": {
        "id": "Ck8jUEowjaQ0"
      }
    },
    {
      "cell_type": "code",
      "source": [
        "youtube = build(\"youtube\", \"v3\", developerKey=API_KEY)"
      ],
      "metadata": {
        "id": "t1VfKA80iRwW"
      },
      "execution_count": null,
      "outputs": []
    },
    {
      "cell_type": "markdown",
      "source": [
        "# Replace with your actual Playlist ID (not URL)"
      ],
      "metadata": {
        "id": "wPhh5aQPja2E"
      }
    },
    {
      "cell_type": "code",
      "source": [
        "playlist_id = \"PLDIoUOhQQPlWc-Kd6TCjTRIl0Z6fSQV0X\dfgh456dfgbn"  # Example: PLbVdsQ0VoFz_abcdef1234567890"
      ],
      "metadata": {
        "id": "aS35XHfGiTqo"
      },
      "execution_count": null,
      "outputs": []
    },
    {
      "cell_type": "markdown",
      "source": [
        "# Function to convert ISO 8601 duration to minutes"
      ],
      "metadata": {
        "id": "abzDrIxqjbfp"
      }
    },
    {
      "cell_type": "code",
      "source": [
        "def convert_duration_to_minutes(duration):\n",
        "    pattern = re.compile(r\"PT(\\d+M)?\")\n",
        "    match = pattern.match(duration)\n",
        "\n",
        "    if match:\n",
        "        minutes = match.group(1)\n",
        "        if minutes:\n",
        "            return int(minutes[:-1])  # Remove 'M' and convert to integer\n",
        "    return 0  # Return 0 if duration is not in the expected format"
      ],
      "metadata": {
        "id": "OwA4yFc1iZ9P"
      },
      "execution_count": null,
      "outputs": []
    },
    {
      "cell_type": "markdown",
      "source": [
        "# Create a list to store the video data"
      ],
      "metadata": {
        "id": "0TDa5wUmjcKY"
      }
    },
    {
      "cell_type": "code",
      "source": [
        "video_data = []\n",
        "\n",
        "# Pagination handling\n",
        "next_page_token = None"
      ],
      "metadata": {
        "id": "y2hQgVfhib4M"
      },
      "execution_count": null,
      "outputs": []
    },
    {
      "cell_type": "markdown",
      "source": [
        "\n",
        " ## maxResults specifies the number of videos to fetch per request (up to 50 max)."
      ],
      "metadata": {
        "id": "KPiVIL1Als12"
      }
    },
    {
      "cell_type": "markdown",
      "source": [
        "## Request a batch of video details from the playlist using the current page token."
      ],
      "metadata": {
        "id": "vBgqcNwRl4u_"
      }
    },
    {
      "cell_type": "code",
      "source": [
        "while True:\n",
        "    # Request video details from the playlist\n",
        "    request = youtube.playlistItems().list(\n",
        "        part=\"snippet\",\n",
        "        playlistId=playlist_id,\n",
        "        maxResults=50,  # Adjust the number of videos to fetch (up to 50 per request)\n",
        "        pageToken=next_page_token\n",
        "    )"
      ],
      "metadata": {
        "id": "43EyTkXriiq-"
      },
      "execution_count": null,
      "outputs": []
    },
    {
      "cell_type": "markdown",
      "source": [
        " # Execute the API request and fetch the response containing video details for the current page."
      ],
      "metadata": {
        "id": "-otxqo9rjdb9"
      }
    },
    {
      "cell_type": "code",
      "source": [
        "    response = request.execute()"
      ],
      "metadata": {
        "id": "suPv7UdJipws"
      },
      "execution_count": null,
      "outputs": []
    },
    {
      "cell_type": "markdown",
      "source": [
        "# Iterate over each video item in the response and extract relevant details."
      ],
      "metadata": {
        "id": "OvDssCo3jeDa"
      }
    },
    {
      "cell_type": "code",
      "source": [
        "    for item in response[\"items\"]:\n",
        "        video_title = item[\"snippet\"][\"title\"]  # Extract the video's title.\n",
        "        video_description = item[\"snippet\"][\"description\"]  # Extract the video's description.\n",
        "        video_published_at = item[\"snippet\"][\"publishedAt\"]  # Extract the video's published date and time.\n",
        "        video_url = f'https://www.youtube.com/watch?v={item[\"snippet\"][\"resourceId\"][\"videoId\"]}'  # Construct the video's URL.\n",
        "        video_id = item[\"snippet\"][\"resourceId\"][\"videoId\"]  # Extract the unique video ID.\n"
      ],
      "metadata": {
        "id": "N4ZQotqSimGv"
      },
      "execution_count": null,
      "outputs": []
    },
    {
      "cell_type": "markdown",
      "source": [
        "  # Fetch additional details about the video such as statistics (views, likes, etc.),\n",
        "   # content details (duration, etc.), and snippet (additional metadata)."
      ],
      "metadata": {
        "id": "nUnKvt8bjexA"
      }
    },
    {
      "cell_type": "code",
      "source": [
        "        # Fetch additional details (view count, like count, dislike count, comment count, etc.)\n",
        "        video_details_request = youtube.videos().list(\n",
        "            part=\"statistics,contentDetails,snippet\",\n",
        "            id=video_id\n",
        "        )"
      ],
      "metadata": {
        "id": "Gq4iRWb4iv5K"
      },
      "execution_count": null,
      "outputs": []
    },
    {
      "cell_type": "markdown",
      "source": [
        "  # Execute the request to retrieve the video details from the YouTube API."
      ],
      "metadata": {
        "id": "RcaccRc0jfcy"
      }
    },
    {
      "cell_type": "code",
      "source": [
        "        video_details_response = video_details_request.execute()"
      ],
      "metadata": {
        "id": "eRU-UB21iyWp"
      },
      "execution_count": null,
      "outputs": []
    },
    {
      "cell_type": "markdown",
      "source": [
        " # Extract statistics and details for the video, such as view count, like count, etc.\n",
        "       "
      ],
      "metadata": {
        "id": "FXfvMLekjf-H"
      }
    },
    {
      "cell_type": "code",
      "source": [
        "        view_count = video_details_response[\"items\"][0][\"statistics\"].get(\"viewCount\", \"N/A\")\n",
        "        like_count = video_details_response[\"items\"][0][\"statistics\"].get(\"likeCount\", \"N/A\")\n",
        "        dislike_count = video_details_response[\"items\"][0][\"statistics\"].get(\"dislikeCount\", \"N/A\")  # Note: Dislikes are deprecated\n",
        "        comment_count = video_details_response[\"items\"][0][\"statistics\"].get(\"commentCount\", \"N/A\")\n",
        "        tags = video_details_response[\"items\"][0][\"snippet\"].get(\"tags\", [])\n",
        "        duration = video_details_response[\"items\"][0][\"contentDetails\"].get(\"duration\", \"PT0M\")"
      ],
      "metadata": {
        "id": "n7V2DbtIi22l"
      },
      "execution_count": null,
      "outputs": []
    },
    {
      "cell_type": "markdown",
      "source": [
        " # Convert duration to minutes"
      ],
      "metadata": {
        "id": "M67t1bB1jgoO"
      }
    },
    {
      "cell_type": "code",
      "source": [
        "              duration_in_minutes = convert_duration_to_minutes(duration)"
      ],
      "metadata": {
        "id": "XBfDWjBEi7Xk"
      },
      "execution_count": null,
      "outputs": []
    },
    {
      "cell_type": "markdown",
      "source": [
        " # Append data to the list"
      ],
      "metadata": {
        "id": "Yxb3-MmIjhLx"
      }
    },
    {
      "cell_type": "code",
      "source": [
        "        video_data.append([video_title, video_description, video_published_at, video_url, view_count, like_count, dislike_count,\n",
        "                           comment_count, tags, duration_in_minutes])"
      ],
      "metadata": {
        "id": "Dx9wF7cai_D4"
      },
      "execution_count": null,
      "outputs": []
    },
    {
      "cell_type": "markdown",
      "source": [
        "  # Check if there's another page of videos in the playlist"
      ],
      "metadata": {
        "id": "i1QwekzEjht_"
      }
    },
    {
      "cell_type": "code",
      "source": [
        "    # Check if there's another page of videos\n",
        "    next_page_token = response.get('nextPageToken')\n",
        "\n",
        "    # Break the loop if no more pages\n",
        "    if not next_page_token:\n",
        "        break"
      ],
      "metadata": {
        "id": "TK2cfkbsjC45"
      },
      "execution_count": null,
      "outputs": []
    },
    {
      "cell_type": "markdown",
      "source": [
        "# Convert the list to a DataFrame"
      ],
      "metadata": {
        "id": "3dSind9xjiSz"
      }
    },
    {
      "cell_type": "code",
      "source": [
        "df = pd.DataFrame(video_data, columns=[\"Title\", \"Description\", \"Published At\", \"Video URL\", \"View Count\", \"Like Count\",\n",
        "                                       \"Dislike Count\", \"Comment Count\", \"Tags\", \"Duration (Minutes)\"])"
      ],
      "metadata": {
        "id": "gLLnEcxcjMcO"
      },
      "execution_count": null,
      "outputs": []
    },
    {
      "cell_type": "markdown",
      "source": [
        "# Save the data to an Excel file"
      ],
      "metadata": {
        "id": "LWqpvoD8jizs"
      }
    },
    {
      "cell_type": "code",
      "source": [
        "df.to_excel(\"youtube_video_data_with_likes_dislikes.xlsx\", index=False)\n",
        "\n",
        "print(\"Data has been saved to youtube_video_data_with_likes_dislikes.xlsx\")"
      ],
      "metadata": {
        "colab": {
          "base_uri": "https://localhost:8080/"
        },
        "id": "yP519oAtDP3-",
        "outputId": "f5dea898-b986-4b2c-d936-8d7d1bf3688c"
      },
      "execution_count": null,
      "outputs": [
        {
          "output_type": "stream",
          "name": "stdout",
          "text": [
            "Data has been saved to youtube_video_data_with_likes_dislikes.xlsx\n"
          ]
        }
      ]
    },
    {
      "cell_type": "markdown",
      "source": [
        "# Loop through all pages of the playlist until there are no more pages"
      ],
      "metadata": {
        "id": "aLsrov6-jjjA"
      }
    },
    {
      "cell_type": "code",
      "source": [
        "while \"nextPageToken\" in response:\n",
        "    # Extract the token for the next page of results\n",
        "    next_page_token = response[\"nextPageToken\"]\n",
        "\n",
        "    # Request the next page of video details from the playlist\n",
        "    request = youtube.playlistItems().list(\n",
        "        part=\"snippet\",         # Specify the part of the video details to retrieve\n",
        "        playlistId=playlist_id, # The ID of the playlist to fetch videos from\n",
        "        maxResults=50,          # Maximum number of videos per request (YouTube API limit is 50)\n",
        "        pageToken=next_page_token  # Use the token to fetch the next page\n",
        "    )\n",
        "\n",
        "    # Execute the API request to get the next set of videos\n",
        "    response = request.execute()\n",
        "\n",
        "    # Process the videos in the current page and append data to the video_data list\n"
      ],
      "metadata": {
        "id": "vvhjHKRC9WF1"
      },
      "execution_count": null,
      "outputs": []
    },
    {
      "cell_type": "code",
      "source": [],
      "metadata": {
        "id": "NY_XkublhgcR"
      },
      "execution_count": null,
      "outputs": []
    }
  ]
}
